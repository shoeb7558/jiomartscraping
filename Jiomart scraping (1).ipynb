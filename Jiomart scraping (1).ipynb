{
 "cells": [
  {
   "cell_type": "markdown",
   "metadata": {},
   "source": [
    "# web scraping "
   ]
  },
  {
   "cell_type": "markdown",
   "metadata": {},
   "source": [
    "### scraping prices of different products from jiomart"
   ]
  },
  {
   "cell_type": "markdown",
   "metadata": {},
   "source": [
    "#### importing libraries"
   ]
  },
  {
   "cell_type": "code",
   "execution_count": 1,
   "metadata": {},
   "outputs": [],
   "source": [
    "from autoscraper import AutoScraper"
   ]
  },
  {
   "cell_type": "markdown",
   "metadata": {},
   "source": [
    "## Fresh Fruits"
   ]
  },
  {
   "cell_type": "code",
   "execution_count": 8,
   "metadata": {},
   "outputs": [],
   "source": [
    "url = \"https://www.jiomart.com/c/groceries/fruits-vegetables/fresh-fruits/220\""
   ]
  },
  {
   "cell_type": "code",
   "execution_count": 9,
   "metadata": {},
   "outputs": [],
   "source": [
    "List_items = [\"₹ 40.00\"]"
   ]
  },
  {
   "cell_type": "code",
   "execution_count": 35,
   "metadata": {},
   "outputs": [
    {
     "name": "stdout",
     "output_type": "stream",
     "text": [
      "['₹ 40.00', '₹ 169.00', '₹ 159.00', '₹ 149.00', '₹ 64.00', '₹ 119.00', '₹ 39.00', '₹ 99.00', '₹ 49.00', '₹ 85.00', '₹ 109.00', '₹ 55.00', '₹ 89.00']\n"
     ]
    }
   ],
   "source": [
    "scrape = AutoScraper()\n",
    "result1 = scrape.build(url,List_items)\n",
    "print(result1)"
   ]
  },
  {
   "cell_type": "code",
   "execution_count": 36,
   "metadata": {},
   "outputs": [],
   "source": [
    "#Url = \"https://www.jiomart.com/c/groceries/fruits-vegetables/fresh-fruits/220/page/2\""
   ]
  },
  {
   "cell_type": "markdown",
   "metadata": {},
   "source": [
    "## freshfruits page 2"
   ]
  },
  {
   "cell_type": "code",
   "execution_count": 37,
   "metadata": {},
   "outputs": [],
   "source": [
    "List_items = [\" ₹ 119.00\"]"
   ]
  },
  {
   "cell_type": "code",
   "execution_count": 38,
   "metadata": {},
   "outputs": [
    {
     "name": "stdout",
     "output_type": "stream",
     "text": [
      "['₹ 119.00', '₹ 189.00', '₹ 89.00']\n"
     ]
    }
   ],
   "source": [
    "scrape = AutoScraper()\n",
    "result = scrape.build(\"https://www.jiomart.com/c/groceries/fruits-vegetables/fresh-fruits/220/page/2\",List_items)\n",
    "print(result)"
   ]
  },
  {
   "cell_type": "markdown",
   "metadata": {},
   "source": [
    "### importing pandas library for making data frame"
   ]
  },
  {
   "cell_type": "code",
   "execution_count": 42,
   "metadata": {},
   "outputs": [],
   "source": [
    "import pandas as pd"
   ]
  },
  {
   "cell_type": "code",
   "execution_count": 44,
   "metadata": {},
   "outputs": [],
   "source": [
    "df1 = pd.DataFrame(result1)"
   ]
  },
  {
   "cell_type": "code",
   "execution_count": 45,
   "metadata": {},
   "outputs": [],
   "source": [
    "df2 = pd.DataFrame(result)"
   ]
  },
  {
   "cell_type": "code",
   "execution_count": 47,
   "metadata": {},
   "outputs": [],
   "source": [
    "vegandfru = pd.concat([df1,df2], axis=0)"
   ]
  },
  {
   "cell_type": "code",
   "execution_count": 48,
   "metadata": {},
   "outputs": [
    {
     "data": {
      "text/html": [
       "<div>\n",
       "<style scoped>\n",
       "    .dataframe tbody tr th:only-of-type {\n",
       "        vertical-align: middle;\n",
       "    }\n",
       "\n",
       "    .dataframe tbody tr th {\n",
       "        vertical-align: top;\n",
       "    }\n",
       "\n",
       "    .dataframe thead th {\n",
       "        text-align: right;\n",
       "    }\n",
       "</style>\n",
       "<table border=\"1\" class=\"dataframe\">\n",
       "  <thead>\n",
       "    <tr style=\"text-align: right;\">\n",
       "      <th></th>\n",
       "      <th>0</th>\n",
       "    </tr>\n",
       "  </thead>\n",
       "  <tbody>\n",
       "    <tr>\n",
       "      <th>0</th>\n",
       "      <td>₹ 40.00</td>\n",
       "    </tr>\n",
       "    <tr>\n",
       "      <th>1</th>\n",
       "      <td>₹ 169.00</td>\n",
       "    </tr>\n",
       "    <tr>\n",
       "      <th>2</th>\n",
       "      <td>₹ 159.00</td>\n",
       "    </tr>\n",
       "    <tr>\n",
       "      <th>3</th>\n",
       "      <td>₹ 149.00</td>\n",
       "    </tr>\n",
       "    <tr>\n",
       "      <th>4</th>\n",
       "      <td>₹ 64.00</td>\n",
       "    </tr>\n",
       "    <tr>\n",
       "      <th>5</th>\n",
       "      <td>₹ 119.00</td>\n",
       "    </tr>\n",
       "    <tr>\n",
       "      <th>6</th>\n",
       "      <td>₹ 39.00</td>\n",
       "    </tr>\n",
       "    <tr>\n",
       "      <th>7</th>\n",
       "      <td>₹ 99.00</td>\n",
       "    </tr>\n",
       "    <tr>\n",
       "      <th>8</th>\n",
       "      <td>₹ 49.00</td>\n",
       "    </tr>\n",
       "    <tr>\n",
       "      <th>9</th>\n",
       "      <td>₹ 85.00</td>\n",
       "    </tr>\n",
       "    <tr>\n",
       "      <th>10</th>\n",
       "      <td>₹ 109.00</td>\n",
       "    </tr>\n",
       "    <tr>\n",
       "      <th>11</th>\n",
       "      <td>₹ 55.00</td>\n",
       "    </tr>\n",
       "    <tr>\n",
       "      <th>12</th>\n",
       "      <td>₹ 89.00</td>\n",
       "    </tr>\n",
       "    <tr>\n",
       "      <th>0</th>\n",
       "      <td>₹ 119.00</td>\n",
       "    </tr>\n",
       "    <tr>\n",
       "      <th>1</th>\n",
       "      <td>₹ 189.00</td>\n",
       "    </tr>\n",
       "  </tbody>\n",
       "</table>\n",
       "</div>"
      ],
      "text/plain": [
       "           0\n",
       "0    ₹ 40.00\n",
       "1   ₹ 169.00\n",
       "2   ₹ 159.00\n",
       "3   ₹ 149.00\n",
       "4    ₹ 64.00\n",
       "5   ₹ 119.00\n",
       "6    ₹ 39.00\n",
       "7    ₹ 99.00\n",
       "8    ₹ 49.00\n",
       "9    ₹ 85.00\n",
       "10  ₹ 109.00\n",
       "11   ₹ 55.00\n",
       "12   ₹ 89.00\n",
       "0   ₹ 119.00\n",
       "1   ₹ 189.00"
      ]
     },
     "execution_count": 48,
     "metadata": {},
     "output_type": "execute_result"
    }
   ],
   "source": [
    "vegandfru.head(15)"
   ]
  },
  {
   "cell_type": "markdown",
   "metadata": {},
   "source": [
    "#### saving data to CSV file"
   ]
  },
  {
   "cell_type": "code",
   "execution_count": 50,
   "metadata": {},
   "outputs": [],
   "source": [
    "vegandfru.to_csv('freshfruitsjio.csv')"
   ]
  },
  {
   "cell_type": "markdown",
   "metadata": {},
   "source": [
    "## Vegetables"
   ]
  },
  {
   "cell_type": "code",
   "execution_count": 53,
   "metadata": {},
   "outputs": [],
   "source": [
    "List_itemsveg = [\" ₹ 12.00\"]"
   ]
  },
  {
   "cell_type": "code",
   "execution_count": 55,
   "metadata": {},
   "outputs": [
    {
     "name": "stdout",
     "output_type": "stream",
     "text": [
      "['₹ 12.00', '₹ 42.00', '₹ 22.00', '₹ 32.00', '₹ 26.00', '₹ 34.50', '₹ 44.50', '₹ 21.00', '₹ 40.00', '₹ 27.00', '₹ 20.00', '₹ 39.00', '₹ 135.00', '₹ 18.00', '₹ 29.00', '₹ 34.00', '₹ 39.50', '₹ 8.00']\n"
     ]
    }
   ],
   "source": [
    "scrape = AutoScraper()\n",
    "resultveg1 = scrape.build(\"https://www.jiomart.com/c/groceries/fruits-vegetables/fresh-vegetables/229\",List_itemsveg)\n",
    "print(resultveg1)"
   ]
  },
  {
   "cell_type": "code",
   "execution_count": 56,
   "metadata": {},
   "outputs": [],
   "source": [
    "dfveg = pd.DataFrame(resultveg1)"
   ]
  },
  {
   "cell_type": "code",
   "execution_count": 57,
   "metadata": {},
   "outputs": [
    {
     "data": {
      "text/html": [
       "<div>\n",
       "<style scoped>\n",
       "    .dataframe tbody tr th:only-of-type {\n",
       "        vertical-align: middle;\n",
       "    }\n",
       "\n",
       "    .dataframe tbody tr th {\n",
       "        vertical-align: top;\n",
       "    }\n",
       "\n",
       "    .dataframe thead th {\n",
       "        text-align: right;\n",
       "    }\n",
       "</style>\n",
       "<table border=\"1\" class=\"dataframe\">\n",
       "  <thead>\n",
       "    <tr style=\"text-align: right;\">\n",
       "      <th></th>\n",
       "      <th>0</th>\n",
       "    </tr>\n",
       "  </thead>\n",
       "  <tbody>\n",
       "    <tr>\n",
       "      <th>0</th>\n",
       "      <td>₹ 12.00</td>\n",
       "    </tr>\n",
       "    <tr>\n",
       "      <th>1</th>\n",
       "      <td>₹ 42.00</td>\n",
       "    </tr>\n",
       "    <tr>\n",
       "      <th>2</th>\n",
       "      <td>₹ 22.00</td>\n",
       "    </tr>\n",
       "    <tr>\n",
       "      <th>3</th>\n",
       "      <td>₹ 32.00</td>\n",
       "    </tr>\n",
       "    <tr>\n",
       "      <th>4</th>\n",
       "      <td>₹ 26.00</td>\n",
       "    </tr>\n",
       "    <tr>\n",
       "      <th>5</th>\n",
       "      <td>₹ 34.50</td>\n",
       "    </tr>\n",
       "    <tr>\n",
       "      <th>6</th>\n",
       "      <td>₹ 44.50</td>\n",
       "    </tr>\n",
       "    <tr>\n",
       "      <th>7</th>\n",
       "      <td>₹ 21.00</td>\n",
       "    </tr>\n",
       "    <tr>\n",
       "      <th>8</th>\n",
       "      <td>₹ 40.00</td>\n",
       "    </tr>\n",
       "    <tr>\n",
       "      <th>9</th>\n",
       "      <td>₹ 27.00</td>\n",
       "    </tr>\n",
       "    <tr>\n",
       "      <th>10</th>\n",
       "      <td>₹ 20.00</td>\n",
       "    </tr>\n",
       "    <tr>\n",
       "      <th>11</th>\n",
       "      <td>₹ 39.00</td>\n",
       "    </tr>\n",
       "    <tr>\n",
       "      <th>12</th>\n",
       "      <td>₹ 135.00</td>\n",
       "    </tr>\n",
       "    <tr>\n",
       "      <th>13</th>\n",
       "      <td>₹ 18.00</td>\n",
       "    </tr>\n",
       "    <tr>\n",
       "      <th>14</th>\n",
       "      <td>₹ 29.00</td>\n",
       "    </tr>\n",
       "  </tbody>\n",
       "</table>\n",
       "</div>"
      ],
      "text/plain": [
       "           0\n",
       "0    ₹ 12.00\n",
       "1    ₹ 42.00\n",
       "2    ₹ 22.00\n",
       "3    ₹ 32.00\n",
       "4    ₹ 26.00\n",
       "5    ₹ 34.50\n",
       "6    ₹ 44.50\n",
       "7    ₹ 21.00\n",
       "8    ₹ 40.00\n",
       "9    ₹ 27.00\n",
       "10   ₹ 20.00\n",
       "11   ₹ 39.00\n",
       "12  ₹ 135.00\n",
       "13   ₹ 18.00\n",
       "14   ₹ 29.00"
      ]
     },
     "execution_count": 57,
     "metadata": {},
     "output_type": "execute_result"
    }
   ],
   "source": [
    "dfveg.head(15)"
   ]
  },
  {
   "cell_type": "code",
   "execution_count": null,
   "metadata": {},
   "outputs": [],
   "source": []
  },
  {
   "cell_type": "code",
   "execution_count": 58,
   "metadata": {},
   "outputs": [],
   "source": [
    "dfveg.to_csv('vegjio.csv')"
   ]
  },
  {
   "cell_type": "markdown",
   "metadata": {},
   "source": [
    "## Dairy Porducts"
   ]
  },
  {
   "cell_type": "code",
   "execution_count": 64,
   "metadata": {},
   "outputs": [],
   "source": [
    "List_itemsdairy = [\"₹ 59.00\"]"
   ]
  },
  {
   "cell_type": "code",
   "execution_count": 65,
   "metadata": {},
   "outputs": [
    {
     "name": "stdout",
     "output_type": "stream",
     "text": [
      "['₹ 59.00', '₹ 60.00', '₹ 116.00', '₹ 47.00', '₹ 11.50', '₹ 97.00', '₹ 61.00', '₹ 185.00', '₹ 18.00', '₹ 65.00', '₹ 26.25', '₹ 361.00', '₹ 49.00', '₹ 29.75', '₹ 455.00', '₹ 28.00']\n"
     ]
    }
   ],
   "source": [
    "scrape = AutoScraper()\n",
    "resultdairy1 = scrape.build(\"https://www.jiomart.com/c/groceries/dairy-bakery/dairy/62\",List_itemsdairy)\n",
    "print(resultdairy1)"
   ]
  },
  {
   "cell_type": "code",
   "execution_count": 66,
   "metadata": {},
   "outputs": [],
   "source": [
    "dfdairy = pd.DataFrame(resultdairy1)"
   ]
  },
  {
   "cell_type": "code",
   "execution_count": 67,
   "metadata": {},
   "outputs": [
    {
     "data": {
      "text/html": [
       "<div>\n",
       "<style scoped>\n",
       "    .dataframe tbody tr th:only-of-type {\n",
       "        vertical-align: middle;\n",
       "    }\n",
       "\n",
       "    .dataframe tbody tr th {\n",
       "        vertical-align: top;\n",
       "    }\n",
       "\n",
       "    .dataframe thead th {\n",
       "        text-align: right;\n",
       "    }\n",
       "</style>\n",
       "<table border=\"1\" class=\"dataframe\">\n",
       "  <thead>\n",
       "    <tr style=\"text-align: right;\">\n",
       "      <th></th>\n",
       "      <th>0</th>\n",
       "    </tr>\n",
       "  </thead>\n",
       "  <tbody>\n",
       "    <tr>\n",
       "      <th>0</th>\n",
       "      <td>₹ 59.00</td>\n",
       "    </tr>\n",
       "    <tr>\n",
       "      <th>1</th>\n",
       "      <td>₹ 60.00</td>\n",
       "    </tr>\n",
       "    <tr>\n",
       "      <th>2</th>\n",
       "      <td>₹ 116.00</td>\n",
       "    </tr>\n",
       "    <tr>\n",
       "      <th>3</th>\n",
       "      <td>₹ 47.00</td>\n",
       "    </tr>\n",
       "    <tr>\n",
       "      <th>4</th>\n",
       "      <td>₹ 11.50</td>\n",
       "    </tr>\n",
       "  </tbody>\n",
       "</table>\n",
       "</div>"
      ],
      "text/plain": [
       "          0\n",
       "0   ₹ 59.00\n",
       "1   ₹ 60.00\n",
       "2  ₹ 116.00\n",
       "3   ₹ 47.00\n",
       "4   ₹ 11.50"
      ]
     },
     "execution_count": 67,
     "metadata": {},
     "output_type": "execute_result"
    }
   ],
   "source": [
    "dfdairy.head()"
   ]
  },
  {
   "cell_type": "code",
   "execution_count": 68,
   "metadata": {},
   "outputs": [],
   "source": [
    "dfdairy.to_csv('dairyjio.csv')"
   ]
  },
  {
   "cell_type": "markdown",
   "metadata": {},
   "source": [
    "## Toast and Khari "
   ]
  },
  {
   "cell_type": "code",
   "execution_count": 70,
   "metadata": {},
   "outputs": [],
   "source": [
    "List_itemstoastandkhari = [\"₹ 33.75\"]"
   ]
  },
  {
   "cell_type": "code",
   "execution_count": 71,
   "metadata": {},
   "outputs": [
    {
     "name": "stdout",
     "output_type": "stream",
     "text": [
      "['₹ 33.75', '₹ 34.50', '₹ 37.50', '₹ 22.50', '₹ 30.00', '₹ 40.00', '₹ 99.04', '₹ 38.86', '₹ 65.66', '₹ 19.00']\n"
     ]
    }
   ],
   "source": [
    "scrape = AutoScraper()\n",
    "resulttoastandkhari = scrape.build(\"https://www.jiomart.com/c/groceries/dairy-bakery/toast-khari/102\",List_itemstoastandkhari)\n",
    "print(resulttoastandkhari)"
   ]
  },
  {
   "cell_type": "code",
   "execution_count": 72,
   "metadata": {},
   "outputs": [],
   "source": [
    "dftoastandkhari = pd.DataFrame(resulttoastandkhari)"
   ]
  },
  {
   "cell_type": "code",
   "execution_count": 73,
   "metadata": {},
   "outputs": [
    {
     "data": {
      "text/html": [
       "<div>\n",
       "<style scoped>\n",
       "    .dataframe tbody tr th:only-of-type {\n",
       "        vertical-align: middle;\n",
       "    }\n",
       "\n",
       "    .dataframe tbody tr th {\n",
       "        vertical-align: top;\n",
       "    }\n",
       "\n",
       "    .dataframe thead th {\n",
       "        text-align: right;\n",
       "    }\n",
       "</style>\n",
       "<table border=\"1\" class=\"dataframe\">\n",
       "  <thead>\n",
       "    <tr style=\"text-align: right;\">\n",
       "      <th></th>\n",
       "      <th>0</th>\n",
       "    </tr>\n",
       "  </thead>\n",
       "  <tbody>\n",
       "    <tr>\n",
       "      <th>0</th>\n",
       "      <td>₹ 33.75</td>\n",
       "    </tr>\n",
       "    <tr>\n",
       "      <th>1</th>\n",
       "      <td>₹ 34.50</td>\n",
       "    </tr>\n",
       "    <tr>\n",
       "      <th>2</th>\n",
       "      <td>₹ 37.50</td>\n",
       "    </tr>\n",
       "    <tr>\n",
       "      <th>3</th>\n",
       "      <td>₹ 22.50</td>\n",
       "    </tr>\n",
       "    <tr>\n",
       "      <th>4</th>\n",
       "      <td>₹ 30.00</td>\n",
       "    </tr>\n",
       "  </tbody>\n",
       "</table>\n",
       "</div>"
      ],
      "text/plain": [
       "         0\n",
       "0  ₹ 33.75\n",
       "1  ₹ 34.50\n",
       "2  ₹ 37.50\n",
       "3  ₹ 22.50\n",
       "4  ₹ 30.00"
      ]
     },
     "execution_count": 73,
     "metadata": {},
     "output_type": "execute_result"
    }
   ],
   "source": [
    "dftoastandkhari.head()"
   ]
  },
  {
   "cell_type": "code",
   "execution_count": 74,
   "metadata": {},
   "outputs": [],
   "source": [
    "dftoastandkhari.to_csv('toastandkharijio.csv')"
   ]
  },
  {
   "cell_type": "markdown",
   "metadata": {},
   "source": [
    "## Atta and Flours"
   ]
  },
  {
   "cell_type": "code",
   "execution_count": 76,
   "metadata": {},
   "outputs": [],
   "source": [
    "List_itemsattaandflours = [\"₹ 479.00\"]"
   ]
  },
  {
   "cell_type": "code",
   "execution_count": 78,
   "metadata": {},
   "outputs": [
    {
     "name": "stdout",
     "output_type": "stream",
     "text": [
      "['₹ 479.00', '₹ 39.00', '₹ 345.00', '₹ 25.00', '₹ 169.00', '₹ 22.00', '₹ 28.00', '₹ 74.00', '₹ 37.00', '₹ 38.00', '₹ 325.50', '₹ 32.55', '₹ 72.54', '₹ 20.00', '₹ 23.25', '₹ 80.10', '₹ 42.30', '₹ 38.70', '₹ 71.10']\n"
     ]
    }
   ],
   "source": [
    "scrape = AutoScraper()\n",
    "resultattaandflours = scrape.build(\"https://www.jiomart.com/c/groceries/staples/atta-flours-sooji/26\",List_itemsattaandflours)\n",
    "print(resultattaandflours)"
   ]
  },
  {
   "cell_type": "code",
   "execution_count": 79,
   "metadata": {},
   "outputs": [],
   "source": [
    "dfattaandflours = pd.DataFrame(resultattaandflours)"
   ]
  },
  {
   "cell_type": "code",
   "execution_count": 80,
   "metadata": {},
   "outputs": [
    {
     "data": {
      "text/html": [
       "<div>\n",
       "<style scoped>\n",
       "    .dataframe tbody tr th:only-of-type {\n",
       "        vertical-align: middle;\n",
       "    }\n",
       "\n",
       "    .dataframe tbody tr th {\n",
       "        vertical-align: top;\n",
       "    }\n",
       "\n",
       "    .dataframe thead th {\n",
       "        text-align: right;\n",
       "    }\n",
       "</style>\n",
       "<table border=\"1\" class=\"dataframe\">\n",
       "  <thead>\n",
       "    <tr style=\"text-align: right;\">\n",
       "      <th></th>\n",
       "      <th>0</th>\n",
       "    </tr>\n",
       "  </thead>\n",
       "  <tbody>\n",
       "    <tr>\n",
       "      <th>0</th>\n",
       "      <td>₹ 479.00</td>\n",
       "    </tr>\n",
       "    <tr>\n",
       "      <th>1</th>\n",
       "      <td>₹ 39.00</td>\n",
       "    </tr>\n",
       "    <tr>\n",
       "      <th>2</th>\n",
       "      <td>₹ 345.00</td>\n",
       "    </tr>\n",
       "    <tr>\n",
       "      <th>3</th>\n",
       "      <td>₹ 25.00</td>\n",
       "    </tr>\n",
       "    <tr>\n",
       "      <th>4</th>\n",
       "      <td>₹ 169.00</td>\n",
       "    </tr>\n",
       "  </tbody>\n",
       "</table>\n",
       "</div>"
      ],
      "text/plain": [
       "          0\n",
       "0  ₹ 479.00\n",
       "1   ₹ 39.00\n",
       "2  ₹ 345.00\n",
       "3   ₹ 25.00\n",
       "4  ₹ 169.00"
      ]
     },
     "execution_count": 80,
     "metadata": {},
     "output_type": "execute_result"
    }
   ],
   "source": [
    "dfattaandflours.head()"
   ]
  },
  {
   "cell_type": "code",
   "execution_count": 81,
   "metadata": {},
   "outputs": [],
   "source": [
    "dfattaandflours.to_csv('attaandfloursjio.csv')"
   ]
  },
  {
   "cell_type": "markdown",
   "metadata": {},
   "source": [
    "## Dals and pulses"
   ]
  },
  {
   "cell_type": "code",
   "execution_count": 83,
   "metadata": {},
   "outputs": [],
   "source": [
    "List_itemsdalandpulces = [\"₹ 66.00\"]"
   ]
  },
  {
   "cell_type": "code",
   "execution_count": 84,
   "metadata": {},
   "outputs": [
    {
     "name": "stdout",
     "output_type": "stream",
     "text": [
      "['₹ 66.00', '₹ 144.00', '₹ 46.00', '₹ 135.00', '₹ 129.00', '₹ 69.00', '₹ 51.00', '₹ 90.00', '₹ 59.52', '₹ 75.00', '₹ 80.00', '₹ 46.50', '₹ 172.05', '₹ 119.00']\n"
     ]
    }
   ],
   "source": [
    "scrape = AutoScraper()\n",
    "resultdalandpulces = scrape.build(\"https://www.jiomart.com/c/groceries/staples/dals-pulses/17\",List_itemsdalandpulces)\n",
    "print(resultdalandpulces)"
   ]
  },
  {
   "cell_type": "code",
   "execution_count": 85,
   "metadata": {},
   "outputs": [],
   "source": [
    "dfdalandpulces = pd.DataFrame(resultdalandpulces)"
   ]
  },
  {
   "cell_type": "code",
   "execution_count": 86,
   "metadata": {},
   "outputs": [
    {
     "data": {
      "text/html": [
       "<div>\n",
       "<style scoped>\n",
       "    .dataframe tbody tr th:only-of-type {\n",
       "        vertical-align: middle;\n",
       "    }\n",
       "\n",
       "    .dataframe tbody tr th {\n",
       "        vertical-align: top;\n",
       "    }\n",
       "\n",
       "    .dataframe thead th {\n",
       "        text-align: right;\n",
       "    }\n",
       "</style>\n",
       "<table border=\"1\" class=\"dataframe\">\n",
       "  <thead>\n",
       "    <tr style=\"text-align: right;\">\n",
       "      <th></th>\n",
       "      <th>0</th>\n",
       "    </tr>\n",
       "  </thead>\n",
       "  <tbody>\n",
       "    <tr>\n",
       "      <th>0</th>\n",
       "      <td>₹ 66.00</td>\n",
       "    </tr>\n",
       "    <tr>\n",
       "      <th>1</th>\n",
       "      <td>₹ 144.00</td>\n",
       "    </tr>\n",
       "    <tr>\n",
       "      <th>2</th>\n",
       "      <td>₹ 46.00</td>\n",
       "    </tr>\n",
       "    <tr>\n",
       "      <th>3</th>\n",
       "      <td>₹ 135.00</td>\n",
       "    </tr>\n",
       "    <tr>\n",
       "      <th>4</th>\n",
       "      <td>₹ 129.00</td>\n",
       "    </tr>\n",
       "  </tbody>\n",
       "</table>\n",
       "</div>"
      ],
      "text/plain": [
       "          0\n",
       "0   ₹ 66.00\n",
       "1  ₹ 144.00\n",
       "2   ₹ 46.00\n",
       "3  ₹ 135.00\n",
       "4  ₹ 129.00"
      ]
     },
     "execution_count": 86,
     "metadata": {},
     "output_type": "execute_result"
    }
   ],
   "source": [
    "dfdalandpulces.head()"
   ]
  },
  {
   "cell_type": "code",
   "execution_count": 93,
   "metadata": {},
   "outputs": [],
   "source": [
    "dfdalandpulces.to_csv('dalandpulcesjio.csv')"
   ]
  },
  {
   "cell_type": "markdown",
   "metadata": {},
   "source": [
    "## Rice and rice products"
   ]
  },
  {
   "cell_type": "code",
   "execution_count": 89,
   "metadata": {},
   "outputs": [],
   "source": [
    "List_itemsriceandriceprod = [\"₹ 68.00\"]"
   ]
  },
  {
   "cell_type": "code",
   "execution_count": 90,
   "metadata": {},
   "outputs": [
    {
     "name": "stdout",
     "output_type": "stream",
     "text": [
      "['₹ 68.00', '₹ 339.00', '₹ 495.00', '₹ 545.00', '₹ 99.00', '₹ 499.00', '₹ 229.00', '₹ 179.00', '₹ 879.00', '₹ 289.00', '₹ 235.00', '₹ 195.00', '₹ 589.00', '₹ 29.00', '₹ 389.00', '₹ 46.33', '₹ 39.00', '₹ 27.00', '₹ 49.00']\n"
     ]
    }
   ],
   "source": [
    "scrape = AutoScraper()\n",
    "resultriceandriceprod = scrape.build(\"https://www.jiomart.com/c/groceries/staples/rice-rice-products/14\",List_itemsriceandriceprod)\n",
    "print(resultriceandriceprod)"
   ]
  },
  {
   "cell_type": "code",
   "execution_count": 91,
   "metadata": {},
   "outputs": [],
   "source": [
    "dfriceandriceprod = pd.DataFrame(resultriceandriceprod)"
   ]
  },
  {
   "cell_type": "code",
   "execution_count": 92,
   "metadata": {},
   "outputs": [
    {
     "data": {
      "text/html": [
       "<div>\n",
       "<style scoped>\n",
       "    .dataframe tbody tr th:only-of-type {\n",
       "        vertical-align: middle;\n",
       "    }\n",
       "\n",
       "    .dataframe tbody tr th {\n",
       "        vertical-align: top;\n",
       "    }\n",
       "\n",
       "    .dataframe thead th {\n",
       "        text-align: right;\n",
       "    }\n",
       "</style>\n",
       "<table border=\"1\" class=\"dataframe\">\n",
       "  <thead>\n",
       "    <tr style=\"text-align: right;\">\n",
       "      <th></th>\n",
       "      <th>0</th>\n",
       "    </tr>\n",
       "  </thead>\n",
       "  <tbody>\n",
       "    <tr>\n",
       "      <th>0</th>\n",
       "      <td>₹ 68.00</td>\n",
       "    </tr>\n",
       "    <tr>\n",
       "      <th>1</th>\n",
       "      <td>₹ 339.00</td>\n",
       "    </tr>\n",
       "    <tr>\n",
       "      <th>2</th>\n",
       "      <td>₹ 495.00</td>\n",
       "    </tr>\n",
       "    <tr>\n",
       "      <th>3</th>\n",
       "      <td>₹ 545.00</td>\n",
       "    </tr>\n",
       "    <tr>\n",
       "      <th>4</th>\n",
       "      <td>₹ 99.00</td>\n",
       "    </tr>\n",
       "  </tbody>\n",
       "</table>\n",
       "</div>"
      ],
      "text/plain": [
       "          0\n",
       "0   ₹ 68.00\n",
       "1  ₹ 339.00\n",
       "2  ₹ 495.00\n",
       "3  ₹ 545.00\n",
       "4   ₹ 99.00"
      ]
     },
     "execution_count": 92,
     "metadata": {},
     "output_type": "execute_result"
    }
   ],
   "source": [
    "dfriceandriceprod.head()"
   ]
  },
  {
   "cell_type": "code",
   "execution_count": 94,
   "metadata": {},
   "outputs": [],
   "source": [
    "dfriceandriceprod.to_csv('riceandriceprodjio.csv')"
   ]
  },
  {
   "cell_type": "markdown",
   "metadata": {},
   "source": [
    "## Masalas"
   ]
  },
  {
   "cell_type": "code",
   "execution_count": 96,
   "metadata": {},
   "outputs": [],
   "source": [
    "List_itemsmasalas = [\"₹ 52.20\"]"
   ]
  },
  {
   "cell_type": "code",
   "execution_count": 98,
   "metadata": {},
   "outputs": [
    {
     "name": "stdout",
     "output_type": "stream",
     "text": [
      "['₹ 52.20', '₹ 62.00', '₹ 33.48', '₹ 18.60', '₹ 44.00', '₹ 161.10', '₹ 41.85', '₹ 59.40', '₹ 56.70', '₹ 67.50', '₹ 31.00', '₹ 82.77', '₹ 58.50', '₹ 138.00', '₹ 55.80', '₹ 29.00', '₹ 68.00', '₹ 64.80', '₹ 63.00', '₹ 48.60']\n"
     ]
    }
   ],
   "source": [
    "scrape = AutoScraper()\n",
    "resultmasala = scrape.build(\"https://www.jiomart.com/c/groceries/staples/masalas-spices/21\",List_itemsmasalas)\n",
    "print(resultmasala)"
   ]
  },
  {
   "cell_type": "code",
   "execution_count": 99,
   "metadata": {},
   "outputs": [],
   "source": [
    "dfmasalas = pd.DataFrame(resultmasala)"
   ]
  },
  {
   "cell_type": "code",
   "execution_count": 100,
   "metadata": {},
   "outputs": [
    {
     "data": {
      "text/html": [
       "<div>\n",
       "<style scoped>\n",
       "    .dataframe tbody tr th:only-of-type {\n",
       "        vertical-align: middle;\n",
       "    }\n",
       "\n",
       "    .dataframe tbody tr th {\n",
       "        vertical-align: top;\n",
       "    }\n",
       "\n",
       "    .dataframe thead th {\n",
       "        text-align: right;\n",
       "    }\n",
       "</style>\n",
       "<table border=\"1\" class=\"dataframe\">\n",
       "  <thead>\n",
       "    <tr style=\"text-align: right;\">\n",
       "      <th></th>\n",
       "      <th>0</th>\n",
       "    </tr>\n",
       "  </thead>\n",
       "  <tbody>\n",
       "    <tr>\n",
       "      <th>0</th>\n",
       "      <td>₹ 52.20</td>\n",
       "    </tr>\n",
       "    <tr>\n",
       "      <th>1</th>\n",
       "      <td>₹ 62.00</td>\n",
       "    </tr>\n",
       "    <tr>\n",
       "      <th>2</th>\n",
       "      <td>₹ 33.48</td>\n",
       "    </tr>\n",
       "    <tr>\n",
       "      <th>3</th>\n",
       "      <td>₹ 18.60</td>\n",
       "    </tr>\n",
       "    <tr>\n",
       "      <th>4</th>\n",
       "      <td>₹ 44.00</td>\n",
       "    </tr>\n",
       "  </tbody>\n",
       "</table>\n",
       "</div>"
      ],
      "text/plain": [
       "         0\n",
       "0  ₹ 52.20\n",
       "1  ₹ 62.00\n",
       "2  ₹ 33.48\n",
       "3  ₹ 18.60\n",
       "4  ₹ 44.00"
      ]
     },
     "execution_count": 100,
     "metadata": {},
     "output_type": "execute_result"
    }
   ],
   "source": [
    "dfmasalas.head()"
   ]
  },
  {
   "cell_type": "code",
   "execution_count": 106,
   "metadata": {},
   "outputs": [],
   "source": [
    "dfmasalas.to_csv('masalasjio.csv')"
   ]
  },
  {
   "cell_type": "markdown",
   "metadata": {},
   "source": [
    "## salt sugar and jaggery"
   ]
  },
  {
   "cell_type": "code",
   "execution_count": 102,
   "metadata": {},
   "outputs": [],
   "source": [
    "List_itemssaltsugarjaggery = [\"₹ 215.00\"]"
   ]
  },
  {
   "cell_type": "code",
   "execution_count": 103,
   "metadata": {},
   "outputs": [
    {
     "name": "stdout",
     "output_type": "stream",
     "text": [
      "['₹ 215.00', '₹ 195.00', '₹ 35.00', '₹ 99.00', '₹ 18.00', '₹ 60.00', '₹ 41.00', '₹ 80.50', '₹ 79.00', '₹ 97.00', '₹ 134.85', '₹ 153.00', '₹ 47.00', '₹ 19.00', '₹ 32.00', '₹ 34.00', '₹ 89.00', '₹ 55.00']\n"
     ]
    }
   ],
   "source": [
    "scrape = AutoScraper()\n",
    "resultsaltsugarjaggery = scrape.build(\"https://www.jiomart.com/c/groceries/staples/salt-sugar-jaggery/23\",List_itemssaltsugarjaggery)\n",
    "print(resultsaltsugarjaggery)"
   ]
  },
  {
   "cell_type": "code",
   "execution_count": 104,
   "metadata": {},
   "outputs": [],
   "source": [
    "dfsaltsugarjaggery = pd.DataFrame(resultsaltsugarjaggery)"
   ]
  },
  {
   "cell_type": "code",
   "execution_count": 105,
   "metadata": {},
   "outputs": [
    {
     "data": {
      "text/html": [
       "<div>\n",
       "<style scoped>\n",
       "    .dataframe tbody tr th:only-of-type {\n",
       "        vertical-align: middle;\n",
       "    }\n",
       "\n",
       "    .dataframe tbody tr th {\n",
       "        vertical-align: top;\n",
       "    }\n",
       "\n",
       "    .dataframe thead th {\n",
       "        text-align: right;\n",
       "    }\n",
       "</style>\n",
       "<table border=\"1\" class=\"dataframe\">\n",
       "  <thead>\n",
       "    <tr style=\"text-align: right;\">\n",
       "      <th></th>\n",
       "      <th>0</th>\n",
       "    </tr>\n",
       "  </thead>\n",
       "  <tbody>\n",
       "    <tr>\n",
       "      <th>0</th>\n",
       "      <td>₹ 215.00</td>\n",
       "    </tr>\n",
       "    <tr>\n",
       "      <th>1</th>\n",
       "      <td>₹ 195.00</td>\n",
       "    </tr>\n",
       "    <tr>\n",
       "      <th>2</th>\n",
       "      <td>₹ 35.00</td>\n",
       "    </tr>\n",
       "    <tr>\n",
       "      <th>3</th>\n",
       "      <td>₹ 99.00</td>\n",
       "    </tr>\n",
       "    <tr>\n",
       "      <th>4</th>\n",
       "      <td>₹ 18.00</td>\n",
       "    </tr>\n",
       "  </tbody>\n",
       "</table>\n",
       "</div>"
      ],
      "text/plain": [
       "          0\n",
       "0  ₹ 215.00\n",
       "1  ₹ 195.00\n",
       "2   ₹ 35.00\n",
       "3   ₹ 99.00\n",
       "4   ₹ 18.00"
      ]
     },
     "execution_count": 105,
     "metadata": {},
     "output_type": "execute_result"
    }
   ],
   "source": [
    "dfsaltsugarjaggery.head()"
   ]
  },
  {
   "cell_type": "code",
   "execution_count": 107,
   "metadata": {},
   "outputs": [],
   "source": [
    "dfsaltsugarjaggery.to_csv('saltsugarjaggeryjio.csv')"
   ]
  },
  {
   "cell_type": "markdown",
   "metadata": {},
   "source": [
    "## Dry fruits and nuts"
   ]
  },
  {
   "cell_type": "code",
   "execution_count": 109,
   "metadata": {},
   "outputs": [],
   "source": [
    "List_itemsdryfruiteandnuts = [\"₹ 149.00\"]"
   ]
  },
  {
   "cell_type": "code",
   "execution_count": 110,
   "metadata": {},
   "outputs": [
    {
     "name": "stdout",
     "output_type": "stream",
     "text": [
      "['₹ 149.00', '₹ 239.00', '₹ 109.00', '₹ 215.00', '₹ 629.00', '₹ 145.00', '₹ 319.00', '₹ 283.65', '₹ 134.85', '₹ 269.00', '₹ 299.00', '₹ 249.00', '₹ 99.00', '₹ 100.44', '₹ 106.95']\n"
     ]
    }
   ],
   "source": [
    "scrape = AutoScraper()\n",
    "resultdryfruiteandnuts = scrape.build(\"https://www.jiomart.com/c/groceries/staples/dry-fruits-nuts/657\",List_itemsdryfruiteandnuts)\n",
    "print(resultdryfruiteandnuts)"
   ]
  },
  {
   "cell_type": "code",
   "execution_count": 111,
   "metadata": {},
   "outputs": [],
   "source": [
    "dfdryfruiteandnuts = pd.DataFrame(resultdryfruiteandnuts)"
   ]
  },
  {
   "cell_type": "code",
   "execution_count": 112,
   "metadata": {},
   "outputs": [
    {
     "data": {
      "text/html": [
       "<div>\n",
       "<style scoped>\n",
       "    .dataframe tbody tr th:only-of-type {\n",
       "        vertical-align: middle;\n",
       "    }\n",
       "\n",
       "    .dataframe tbody tr th {\n",
       "        vertical-align: top;\n",
       "    }\n",
       "\n",
       "    .dataframe thead th {\n",
       "        text-align: right;\n",
       "    }\n",
       "</style>\n",
       "<table border=\"1\" class=\"dataframe\">\n",
       "  <thead>\n",
       "    <tr style=\"text-align: right;\">\n",
       "      <th></th>\n",
       "      <th>0</th>\n",
       "    </tr>\n",
       "  </thead>\n",
       "  <tbody>\n",
       "    <tr>\n",
       "      <th>0</th>\n",
       "      <td>₹ 149.00</td>\n",
       "    </tr>\n",
       "    <tr>\n",
       "      <th>1</th>\n",
       "      <td>₹ 239.00</td>\n",
       "    </tr>\n",
       "    <tr>\n",
       "      <th>2</th>\n",
       "      <td>₹ 109.00</td>\n",
       "    </tr>\n",
       "    <tr>\n",
       "      <th>3</th>\n",
       "      <td>₹ 215.00</td>\n",
       "    </tr>\n",
       "    <tr>\n",
       "      <th>4</th>\n",
       "      <td>₹ 629.00</td>\n",
       "    </tr>\n",
       "  </tbody>\n",
       "</table>\n",
       "</div>"
      ],
      "text/plain": [
       "          0\n",
       "0  ₹ 149.00\n",
       "1  ₹ 239.00\n",
       "2  ₹ 109.00\n",
       "3  ₹ 215.00\n",
       "4  ₹ 629.00"
      ]
     },
     "execution_count": 112,
     "metadata": {},
     "output_type": "execute_result"
    }
   ],
   "source": [
    "dfdryfruiteandnuts.head()"
   ]
  },
  {
   "cell_type": "code",
   "execution_count": 113,
   "metadata": {},
   "outputs": [],
   "source": [
    "dfdryfruiteandnuts.to_csv('dryfruiteandnutsjio.csv')"
   ]
  },
  {
   "cell_type": "code",
   "execution_count": 119,
   "metadata": {},
   "outputs": [],
   "source": [
    "fd21 = pd.concat([dfdryfruiteandnuts,dfsaltsugarjaggery], axis=1)"
   ]
  },
  {
   "cell_type": "code",
   "execution_count": 134,
   "metadata": {},
   "outputs": [],
   "source": [
    "fd22 = pd.concat([fd21, dfmasalas], axis=1)"
   ]
  },
  {
   "cell_type": "code",
   "execution_count": 135,
   "metadata": {},
   "outputs": [],
   "source": [
    "fd23 = pd.concat([fd22, dfriceandriceprod], axis=1)"
   ]
  },
  {
   "cell_type": "code",
   "execution_count": 136,
   "metadata": {},
   "outputs": [],
   "source": [
    "fd24 = pd.concat([fd23, dfdalandpulces], axis=1)"
   ]
  },
  {
   "cell_type": "code",
   "execution_count": 137,
   "metadata": {},
   "outputs": [],
   "source": [
    "fd25 = pd.concat([fd24, dfattaandflours], axis=1)"
   ]
  },
  {
   "cell_type": "code",
   "execution_count": 138,
   "metadata": {},
   "outputs": [],
   "source": [
    "fd26 = pd.concat([fd25, dftoastandkhari], axis=1)"
   ]
  },
  {
   "cell_type": "code",
   "execution_count": 139,
   "metadata": {},
   "outputs": [],
   "source": [
    "fd27 = pd.concat([fd26, dfdairy], axis=1)"
   ]
  },
  {
   "cell_type": "code",
   "execution_count": 140,
   "metadata": {},
   "outputs": [],
   "source": [
    "fd28 = pd.concat([fd27, dfveg], axis=1)"
   ]
  },
  {
   "cell_type": "code",
   "execution_count": 141,
   "metadata": {},
   "outputs": [],
   "source": [
    "fd29 = pd.concat([fd28, df1], axis=1)"
   ]
  },
  {
   "cell_type": "code",
   "execution_count": null,
   "metadata": {},
   "outputs": [],
   "source": []
  },
  {
   "cell_type": "code",
   "execution_count": 161,
   "metadata": {},
   "outputs": [
    {
     "data": {
      "text/html": [
       "<div>\n",
       "<style scoped>\n",
       "    .dataframe tbody tr th:only-of-type {\n",
       "        vertical-align: middle;\n",
       "    }\n",
       "\n",
       "    .dataframe tbody tr th {\n",
       "        vertical-align: top;\n",
       "    }\n",
       "\n",
       "    .dataframe thead th {\n",
       "        text-align: right;\n",
       "    }\n",
       "</style>\n",
       "<table border=\"1\" class=\"dataframe\">\n",
       "  <thead>\n",
       "    <tr style=\"text-align: right;\">\n",
       "      <th></th>\n",
       "      <th>0</th>\n",
       "      <th>0</th>\n",
       "      <th>0</th>\n",
       "      <th>0</th>\n",
       "      <th>0</th>\n",
       "      <th>0</th>\n",
       "      <th>0</th>\n",
       "      <th>0</th>\n",
       "      <th>0</th>\n",
       "      <th>0</th>\n",
       "    </tr>\n",
       "  </thead>\n",
       "  <tbody>\n",
       "    <tr>\n",
       "      <th>0</th>\n",
       "      <td>₹ 149.00</td>\n",
       "      <td>₹ 215.00</td>\n",
       "      <td>₹ 52.20</td>\n",
       "      <td>₹ 68.00</td>\n",
       "      <td>₹ 66.00</td>\n",
       "      <td>₹ 479.00</td>\n",
       "      <td>₹ 33.75</td>\n",
       "      <td>₹ 59.00</td>\n",
       "      <td>₹ 12.00</td>\n",
       "      <td>₹ 40.00</td>\n",
       "    </tr>\n",
       "    <tr>\n",
       "      <th>1</th>\n",
       "      <td>₹ 239.00</td>\n",
       "      <td>₹ 195.00</td>\n",
       "      <td>₹ 62.00</td>\n",
       "      <td>₹ 339.00</td>\n",
       "      <td>₹ 144.00</td>\n",
       "      <td>₹ 39.00</td>\n",
       "      <td>₹ 34.50</td>\n",
       "      <td>₹ 60.00</td>\n",
       "      <td>₹ 42.00</td>\n",
       "      <td>₹ 169.00</td>\n",
       "    </tr>\n",
       "    <tr>\n",
       "      <th>2</th>\n",
       "      <td>₹ 109.00</td>\n",
       "      <td>₹ 35.00</td>\n",
       "      <td>₹ 33.48</td>\n",
       "      <td>₹ 495.00</td>\n",
       "      <td>₹ 46.00</td>\n",
       "      <td>₹ 345.00</td>\n",
       "      <td>₹ 37.50</td>\n",
       "      <td>₹ 116.00</td>\n",
       "      <td>₹ 22.00</td>\n",
       "      <td>₹ 159.00</td>\n",
       "    </tr>\n",
       "    <tr>\n",
       "      <th>3</th>\n",
       "      <td>₹ 215.00</td>\n",
       "      <td>₹ 99.00</td>\n",
       "      <td>₹ 18.60</td>\n",
       "      <td>₹ 545.00</td>\n",
       "      <td>₹ 135.00</td>\n",
       "      <td>₹ 25.00</td>\n",
       "      <td>₹ 22.50</td>\n",
       "      <td>₹ 47.00</td>\n",
       "      <td>₹ 32.00</td>\n",
       "      <td>₹ 149.00</td>\n",
       "    </tr>\n",
       "    <tr>\n",
       "      <th>4</th>\n",
       "      <td>₹ 629.00</td>\n",
       "      <td>₹ 18.00</td>\n",
       "      <td>₹ 44.00</td>\n",
       "      <td>₹ 99.00</td>\n",
       "      <td>₹ 129.00</td>\n",
       "      <td>₹ 169.00</td>\n",
       "      <td>₹ 30.00</td>\n",
       "      <td>₹ 11.50</td>\n",
       "      <td>₹ 26.00</td>\n",
       "      <td>₹ 64.00</td>\n",
       "    </tr>\n",
       "  </tbody>\n",
       "</table>\n",
       "</div>"
      ],
      "text/plain": [
       "          0         0        0         0         0         0        0  \\\n",
       "0  ₹ 149.00  ₹ 215.00  ₹ 52.20   ₹ 68.00   ₹ 66.00  ₹ 479.00  ₹ 33.75   \n",
       "1  ₹ 239.00  ₹ 195.00  ₹ 62.00  ₹ 339.00  ₹ 144.00   ₹ 39.00  ₹ 34.50   \n",
       "2  ₹ 109.00   ₹ 35.00  ₹ 33.48  ₹ 495.00   ₹ 46.00  ₹ 345.00  ₹ 37.50   \n",
       "3  ₹ 215.00   ₹ 99.00  ₹ 18.60  ₹ 545.00  ₹ 135.00   ₹ 25.00  ₹ 22.50   \n",
       "4  ₹ 629.00   ₹ 18.00  ₹ 44.00   ₹ 99.00  ₹ 129.00  ₹ 169.00  ₹ 30.00   \n",
       "\n",
       "          0        0         0  \n",
       "0   ₹ 59.00  ₹ 12.00   ₹ 40.00  \n",
       "1   ₹ 60.00  ₹ 42.00  ₹ 169.00  \n",
       "2  ₹ 116.00  ₹ 22.00  ₹ 159.00  \n",
       "3   ₹ 47.00  ₹ 32.00  ₹ 149.00  \n",
       "4   ₹ 11.50  ₹ 26.00   ₹ 64.00  "
      ]
     },
     "execution_count": 161,
     "metadata": {},
     "output_type": "execute_result"
    }
   ],
   "source": [
    "fd29.head()"
   ]
  },
  {
   "cell_type": "code",
   "execution_count": 163,
   "metadata": {},
   "outputs": [],
   "source": [
    "fd29.to_csv('jiomart.csv')"
   ]
  },
  {
   "cell_type": "code",
   "execution_count": 164,
   "metadata": {},
   "outputs": [],
   "source": [
    "df30 = pd.read_csv(\"jiomart.csv\")"
   ]
  },
  {
   "cell_type": "code",
   "execution_count": null,
   "metadata": {},
   "outputs": [],
   "source": [
    "#d30 = df.drop('Unnamed: 0', axis=1)"
   ]
  },
  {
   "cell_type": "code",
   "execution_count": 165,
   "metadata": {},
   "outputs": [
    {
     "data": {
      "text/html": [
       "<div>\n",
       "<style scoped>\n",
       "    .dataframe tbody tr th:only-of-type {\n",
       "        vertical-align: middle;\n",
       "    }\n",
       "\n",
       "    .dataframe tbody tr th {\n",
       "        vertical-align: top;\n",
       "    }\n",
       "\n",
       "    .dataframe thead th {\n",
       "        text-align: right;\n",
       "    }\n",
       "</style>\n",
       "<table border=\"1\" class=\"dataframe\">\n",
       "  <thead>\n",
       "    <tr style=\"text-align: right;\">\n",
       "      <th></th>\n",
       "      <th>Unnamed: 0</th>\n",
       "      <th>0</th>\n",
       "      <th>0.1</th>\n",
       "      <th>0.2</th>\n",
       "      <th>0.3</th>\n",
       "      <th>0.4</th>\n",
       "      <th>0.5</th>\n",
       "      <th>0.6</th>\n",
       "      <th>0.7</th>\n",
       "      <th>0.8</th>\n",
       "      <th>0.9</th>\n",
       "    </tr>\n",
       "  </thead>\n",
       "  <tbody>\n",
       "    <tr>\n",
       "      <th>0</th>\n",
       "      <td>0</td>\n",
       "      <td>₹ 149.00</td>\n",
       "      <td>₹ 215.00</td>\n",
       "      <td>₹ 52.20</td>\n",
       "      <td>₹ 68.00</td>\n",
       "      <td>₹ 66.00</td>\n",
       "      <td>₹ 479.00</td>\n",
       "      <td>₹ 33.75</td>\n",
       "      <td>₹ 59.00</td>\n",
       "      <td>₹ 12.00</td>\n",
       "      <td>₹ 40.00</td>\n",
       "    </tr>\n",
       "    <tr>\n",
       "      <th>1</th>\n",
       "      <td>1</td>\n",
       "      <td>₹ 239.00</td>\n",
       "      <td>₹ 195.00</td>\n",
       "      <td>₹ 62.00</td>\n",
       "      <td>₹ 339.00</td>\n",
       "      <td>₹ 144.00</td>\n",
       "      <td>₹ 39.00</td>\n",
       "      <td>₹ 34.50</td>\n",
       "      <td>₹ 60.00</td>\n",
       "      <td>₹ 42.00</td>\n",
       "      <td>₹ 169.00</td>\n",
       "    </tr>\n",
       "    <tr>\n",
       "      <th>2</th>\n",
       "      <td>2</td>\n",
       "      <td>₹ 109.00</td>\n",
       "      <td>₹ 35.00</td>\n",
       "      <td>₹ 33.48</td>\n",
       "      <td>₹ 495.00</td>\n",
       "      <td>₹ 46.00</td>\n",
       "      <td>₹ 345.00</td>\n",
       "      <td>₹ 37.50</td>\n",
       "      <td>₹ 116.00</td>\n",
       "      <td>₹ 22.00</td>\n",
       "      <td>₹ 159.00</td>\n",
       "    </tr>\n",
       "    <tr>\n",
       "      <th>3</th>\n",
       "      <td>3</td>\n",
       "      <td>₹ 215.00</td>\n",
       "      <td>₹ 99.00</td>\n",
       "      <td>₹ 18.60</td>\n",
       "      <td>₹ 545.00</td>\n",
       "      <td>₹ 135.00</td>\n",
       "      <td>₹ 25.00</td>\n",
       "      <td>₹ 22.50</td>\n",
       "      <td>₹ 47.00</td>\n",
       "      <td>₹ 32.00</td>\n",
       "      <td>₹ 149.00</td>\n",
       "    </tr>\n",
       "    <tr>\n",
       "      <th>4</th>\n",
       "      <td>4</td>\n",
       "      <td>₹ 629.00</td>\n",
       "      <td>₹ 18.00</td>\n",
       "      <td>₹ 44.00</td>\n",
       "      <td>₹ 99.00</td>\n",
       "      <td>₹ 129.00</td>\n",
       "      <td>₹ 169.00</td>\n",
       "      <td>₹ 30.00</td>\n",
       "      <td>₹ 11.50</td>\n",
       "      <td>₹ 26.00</td>\n",
       "      <td>₹ 64.00</td>\n",
       "    </tr>\n",
       "  </tbody>\n",
       "</table>\n",
       "</div>"
      ],
      "text/plain": [
       "   Unnamed: 0         0       0.1      0.2       0.3       0.4       0.5  \\\n",
       "0           0  ₹ 149.00  ₹ 215.00  ₹ 52.20   ₹ 68.00   ₹ 66.00  ₹ 479.00   \n",
       "1           1  ₹ 239.00  ₹ 195.00  ₹ 62.00  ₹ 339.00  ₹ 144.00   ₹ 39.00   \n",
       "2           2  ₹ 109.00   ₹ 35.00  ₹ 33.48  ₹ 495.00   ₹ 46.00  ₹ 345.00   \n",
       "3           3  ₹ 215.00   ₹ 99.00  ₹ 18.60  ₹ 545.00  ₹ 135.00   ₹ 25.00   \n",
       "4           4  ₹ 629.00   ₹ 18.00  ₹ 44.00   ₹ 99.00  ₹ 129.00  ₹ 169.00   \n",
       "\n",
       "       0.6       0.7      0.8       0.9  \n",
       "0  ₹ 33.75   ₹ 59.00  ₹ 12.00   ₹ 40.00  \n",
       "1  ₹ 34.50   ₹ 60.00  ₹ 42.00  ₹ 169.00  \n",
       "2  ₹ 37.50  ₹ 116.00  ₹ 22.00  ₹ 159.00  \n",
       "3  ₹ 22.50   ₹ 47.00  ₹ 32.00  ₹ 149.00  \n",
       "4  ₹ 30.00   ₹ 11.50  ₹ 26.00   ₹ 64.00  "
      ]
     },
     "execution_count": 165,
     "metadata": {},
     "output_type": "execute_result"
    }
   ],
   "source": [
    "df30.head()"
   ]
  },
  {
   "cell_type": "code",
   "execution_count": 187,
   "metadata": {},
   "outputs": [],
   "source": [
    "d31 = df30.drop('Unnamed: 0', axis=1)"
   ]
  },
  {
   "cell_type": "code",
   "execution_count": 188,
   "metadata": {},
   "outputs": [],
   "source": [
    "df31 = df30.rename(columns={'0': 'fruits', '0.1': 'vegetables', '0.2': 'Dairy', '0.3': 'toast & Khari', '0.4':'Atta & Flours','0.5': 'Dal & Pulces',\n",
    "                            '0.6': 'Rice & rice products', '0.7':'Masalas', '0.8': 'Salt-Sugar-Jaggery', '0.9': 'Dry Fruits'})"
   ]
  },
  {
   "cell_type": "code",
   "execution_count": 189,
   "metadata": {},
   "outputs": [
    {
     "data": {
      "text/html": [
       "<div>\n",
       "<style scoped>\n",
       "    .dataframe tbody tr th:only-of-type {\n",
       "        vertical-align: middle;\n",
       "    }\n",
       "\n",
       "    .dataframe tbody tr th {\n",
       "        vertical-align: top;\n",
       "    }\n",
       "\n",
       "    .dataframe thead th {\n",
       "        text-align: right;\n",
       "    }\n",
       "</style>\n",
       "<table border=\"1\" class=\"dataframe\">\n",
       "  <thead>\n",
       "    <tr style=\"text-align: right;\">\n",
       "      <th></th>\n",
       "      <th>Unnamed: 0</th>\n",
       "      <th>fruits</th>\n",
       "      <th>vegetables</th>\n",
       "      <th>Dairy</th>\n",
       "      <th>toast &amp; Khari</th>\n",
       "      <th>Atta &amp; Flours</th>\n",
       "      <th>Dal &amp; Pulces</th>\n",
       "      <th>Rice &amp; rice products</th>\n",
       "      <th>Masalas</th>\n",
       "      <th>Salt-Sugar-Jaggery</th>\n",
       "      <th>Dry Fruits</th>\n",
       "    </tr>\n",
       "  </thead>\n",
       "  <tbody>\n",
       "    <tr>\n",
       "      <th>0</th>\n",
       "      <td>0</td>\n",
       "      <td>₹ 149.00</td>\n",
       "      <td>₹ 215.00</td>\n",
       "      <td>₹ 52.20</td>\n",
       "      <td>₹ 68.00</td>\n",
       "      <td>₹ 66.00</td>\n",
       "      <td>₹ 479.00</td>\n",
       "      <td>₹ 33.75</td>\n",
       "      <td>₹ 59.00</td>\n",
       "      <td>₹ 12.00</td>\n",
       "      <td>₹ 40.00</td>\n",
       "    </tr>\n",
       "    <tr>\n",
       "      <th>1</th>\n",
       "      <td>1</td>\n",
       "      <td>₹ 239.00</td>\n",
       "      <td>₹ 195.00</td>\n",
       "      <td>₹ 62.00</td>\n",
       "      <td>₹ 339.00</td>\n",
       "      <td>₹ 144.00</td>\n",
       "      <td>₹ 39.00</td>\n",
       "      <td>₹ 34.50</td>\n",
       "      <td>₹ 60.00</td>\n",
       "      <td>₹ 42.00</td>\n",
       "      <td>₹ 169.00</td>\n",
       "    </tr>\n",
       "    <tr>\n",
       "      <th>2</th>\n",
       "      <td>2</td>\n",
       "      <td>₹ 109.00</td>\n",
       "      <td>₹ 35.00</td>\n",
       "      <td>₹ 33.48</td>\n",
       "      <td>₹ 495.00</td>\n",
       "      <td>₹ 46.00</td>\n",
       "      <td>₹ 345.00</td>\n",
       "      <td>₹ 37.50</td>\n",
       "      <td>₹ 116.00</td>\n",
       "      <td>₹ 22.00</td>\n",
       "      <td>₹ 159.00</td>\n",
       "    </tr>\n",
       "    <tr>\n",
       "      <th>3</th>\n",
       "      <td>3</td>\n",
       "      <td>₹ 215.00</td>\n",
       "      <td>₹ 99.00</td>\n",
       "      <td>₹ 18.60</td>\n",
       "      <td>₹ 545.00</td>\n",
       "      <td>₹ 135.00</td>\n",
       "      <td>₹ 25.00</td>\n",
       "      <td>₹ 22.50</td>\n",
       "      <td>₹ 47.00</td>\n",
       "      <td>₹ 32.00</td>\n",
       "      <td>₹ 149.00</td>\n",
       "    </tr>\n",
       "    <tr>\n",
       "      <th>4</th>\n",
       "      <td>4</td>\n",
       "      <td>₹ 629.00</td>\n",
       "      <td>₹ 18.00</td>\n",
       "      <td>₹ 44.00</td>\n",
       "      <td>₹ 99.00</td>\n",
       "      <td>₹ 129.00</td>\n",
       "      <td>₹ 169.00</td>\n",
       "      <td>₹ 30.00</td>\n",
       "      <td>₹ 11.50</td>\n",
       "      <td>₹ 26.00</td>\n",
       "      <td>₹ 64.00</td>\n",
       "    </tr>\n",
       "  </tbody>\n",
       "</table>\n",
       "</div>"
      ],
      "text/plain": [
       "   Unnamed: 0    fruits vegetables    Dairy toast & Khari Atta & Flours  \\\n",
       "0           0  ₹ 149.00   ₹ 215.00  ₹ 52.20       ₹ 68.00       ₹ 66.00   \n",
       "1           1  ₹ 239.00   ₹ 195.00  ₹ 62.00      ₹ 339.00      ₹ 144.00   \n",
       "2           2  ₹ 109.00    ₹ 35.00  ₹ 33.48      ₹ 495.00       ₹ 46.00   \n",
       "3           3  ₹ 215.00    ₹ 99.00  ₹ 18.60      ₹ 545.00      ₹ 135.00   \n",
       "4           4  ₹ 629.00    ₹ 18.00  ₹ 44.00       ₹ 99.00      ₹ 129.00   \n",
       "\n",
       "  Dal & Pulces Rice & rice products   Masalas Salt-Sugar-Jaggery Dry Fruits  \n",
       "0     ₹ 479.00              ₹ 33.75   ₹ 59.00            ₹ 12.00    ₹ 40.00  \n",
       "1      ₹ 39.00              ₹ 34.50   ₹ 60.00            ₹ 42.00   ₹ 169.00  \n",
       "2     ₹ 345.00              ₹ 37.50  ₹ 116.00            ₹ 22.00   ₹ 159.00  \n",
       "3      ₹ 25.00              ₹ 22.50   ₹ 47.00            ₹ 32.00   ₹ 149.00  \n",
       "4     ₹ 169.00              ₹ 30.00   ₹ 11.50            ₹ 26.00    ₹ 64.00  "
      ]
     },
     "execution_count": 189,
     "metadata": {},
     "output_type": "execute_result"
    }
   ],
   "source": [
    "df31.head()"
   ]
  },
  {
   "cell_type": "code",
   "execution_count": 190,
   "metadata": {},
   "outputs": [],
   "source": [
    "df31.to_csv('jiomart2.csv')"
   ]
  },
  {
   "cell_type": "code",
   "execution_count": 191,
   "metadata": {},
   "outputs": [
    {
     "data": {
      "text/plain": [
       "(20, 11)"
      ]
     },
     "execution_count": 191,
     "metadata": {},
     "output_type": "execute_result"
    }
   ],
   "source": [
    "df31.shape"
   ]
  },
  {
   "cell_type": "code",
   "execution_count": 192,
   "metadata": {},
   "outputs": [],
   "source": [
    "dff = df31.drop('Unnamed: 0', axis=1)"
   ]
  },
  {
   "cell_type": "code",
   "execution_count": 193,
   "metadata": {},
   "outputs": [
    {
     "data": {
      "text/html": [
       "<div>\n",
       "<style scoped>\n",
       "    .dataframe tbody tr th:only-of-type {\n",
       "        vertical-align: middle;\n",
       "    }\n",
       "\n",
       "    .dataframe tbody tr th {\n",
       "        vertical-align: top;\n",
       "    }\n",
       "\n",
       "    .dataframe thead th {\n",
       "        text-align: right;\n",
       "    }\n",
       "</style>\n",
       "<table border=\"1\" class=\"dataframe\">\n",
       "  <thead>\n",
       "    <tr style=\"text-align: right;\">\n",
       "      <th></th>\n",
       "      <th>fruits</th>\n",
       "      <th>vegetables</th>\n",
       "      <th>Dairy</th>\n",
       "      <th>toast &amp; Khari</th>\n",
       "      <th>Atta &amp; Flours</th>\n",
       "      <th>Dal &amp; Pulces</th>\n",
       "      <th>Rice &amp; rice products</th>\n",
       "      <th>Masalas</th>\n",
       "      <th>Salt-Sugar-Jaggery</th>\n",
       "      <th>Dry Fruits</th>\n",
       "    </tr>\n",
       "  </thead>\n",
       "  <tbody>\n",
       "    <tr>\n",
       "      <th>0</th>\n",
       "      <td>₹ 149.00</td>\n",
       "      <td>₹ 215.00</td>\n",
       "      <td>₹ 52.20</td>\n",
       "      <td>₹ 68.00</td>\n",
       "      <td>₹ 66.00</td>\n",
       "      <td>₹ 479.00</td>\n",
       "      <td>₹ 33.75</td>\n",
       "      <td>₹ 59.00</td>\n",
       "      <td>₹ 12.00</td>\n",
       "      <td>₹ 40.00</td>\n",
       "    </tr>\n",
       "    <tr>\n",
       "      <th>1</th>\n",
       "      <td>₹ 239.00</td>\n",
       "      <td>₹ 195.00</td>\n",
       "      <td>₹ 62.00</td>\n",
       "      <td>₹ 339.00</td>\n",
       "      <td>₹ 144.00</td>\n",
       "      <td>₹ 39.00</td>\n",
       "      <td>₹ 34.50</td>\n",
       "      <td>₹ 60.00</td>\n",
       "      <td>₹ 42.00</td>\n",
       "      <td>₹ 169.00</td>\n",
       "    </tr>\n",
       "    <tr>\n",
       "      <th>2</th>\n",
       "      <td>₹ 109.00</td>\n",
       "      <td>₹ 35.00</td>\n",
       "      <td>₹ 33.48</td>\n",
       "      <td>₹ 495.00</td>\n",
       "      <td>₹ 46.00</td>\n",
       "      <td>₹ 345.00</td>\n",
       "      <td>₹ 37.50</td>\n",
       "      <td>₹ 116.00</td>\n",
       "      <td>₹ 22.00</td>\n",
       "      <td>₹ 159.00</td>\n",
       "    </tr>\n",
       "    <tr>\n",
       "      <th>3</th>\n",
       "      <td>₹ 215.00</td>\n",
       "      <td>₹ 99.00</td>\n",
       "      <td>₹ 18.60</td>\n",
       "      <td>₹ 545.00</td>\n",
       "      <td>₹ 135.00</td>\n",
       "      <td>₹ 25.00</td>\n",
       "      <td>₹ 22.50</td>\n",
       "      <td>₹ 47.00</td>\n",
       "      <td>₹ 32.00</td>\n",
       "      <td>₹ 149.00</td>\n",
       "    </tr>\n",
       "    <tr>\n",
       "      <th>4</th>\n",
       "      <td>₹ 629.00</td>\n",
       "      <td>₹ 18.00</td>\n",
       "      <td>₹ 44.00</td>\n",
       "      <td>₹ 99.00</td>\n",
       "      <td>₹ 129.00</td>\n",
       "      <td>₹ 169.00</td>\n",
       "      <td>₹ 30.00</td>\n",
       "      <td>₹ 11.50</td>\n",
       "      <td>₹ 26.00</td>\n",
       "      <td>₹ 64.00</td>\n",
       "    </tr>\n",
       "  </tbody>\n",
       "</table>\n",
       "</div>"
      ],
      "text/plain": [
       "     fruits vegetables    Dairy toast & Khari Atta & Flours Dal & Pulces  \\\n",
       "0  ₹ 149.00   ₹ 215.00  ₹ 52.20       ₹ 68.00       ₹ 66.00     ₹ 479.00   \n",
       "1  ₹ 239.00   ₹ 195.00  ₹ 62.00      ₹ 339.00      ₹ 144.00      ₹ 39.00   \n",
       "2  ₹ 109.00    ₹ 35.00  ₹ 33.48      ₹ 495.00       ₹ 46.00     ₹ 345.00   \n",
       "3  ₹ 215.00    ₹ 99.00  ₹ 18.60      ₹ 545.00      ₹ 135.00      ₹ 25.00   \n",
       "4  ₹ 629.00    ₹ 18.00  ₹ 44.00       ₹ 99.00      ₹ 129.00     ₹ 169.00   \n",
       "\n",
       "  Rice & rice products   Masalas Salt-Sugar-Jaggery Dry Fruits  \n",
       "0              ₹ 33.75   ₹ 59.00            ₹ 12.00    ₹ 40.00  \n",
       "1              ₹ 34.50   ₹ 60.00            ₹ 42.00   ₹ 169.00  \n",
       "2              ₹ 37.50  ₹ 116.00            ₹ 22.00   ₹ 159.00  \n",
       "3              ₹ 22.50   ₹ 47.00            ₹ 32.00   ₹ 149.00  \n",
       "4              ₹ 30.00   ₹ 11.50            ₹ 26.00    ₹ 64.00  "
      ]
     },
     "execution_count": 193,
     "metadata": {},
     "output_type": "execute_result"
    }
   ],
   "source": [
    "dff.head()"
   ]
  },
  {
   "cell_type": "code",
   "execution_count": 194,
   "metadata": {},
   "outputs": [],
   "source": [
    "dff.to_csv('jiomart.csv')"
   ]
  },
  {
   "cell_type": "code",
   "execution_count": null,
   "metadata": {},
   "outputs": [],
   "source": []
  }
 ],
 "metadata": {
  "kernelspec": {
   "display_name": "Python 3",
   "language": "python",
   "name": "python3"
  },
  "language_info": {
   "codemirror_mode": {
    "name": "ipython",
    "version": 3
   },
   "file_extension": ".py",
   "mimetype": "text/x-python",
   "name": "python",
   "nbconvert_exporter": "python",
   "pygments_lexer": "ipython3",
   "version": "3.8.5"
  }
 },
 "nbformat": 4,
 "nbformat_minor": 4
}
